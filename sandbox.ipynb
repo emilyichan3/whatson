{
 "cells": [
  {
   "cell_type": "code",
   "execution_count": 1,
   "metadata": {},
   "outputs": [],
   "source": [
    "from datetime import datetime, timedelta, timezone\n",
    "\n",
    "from flask import Flask, flash, render_template, redirect, request, url_for\n",
    "\n",
    "from flask_login import LoginManager, login_user, logout_user, login_required, current_user\n",
    "\n",
    "from models import User, Group, Post, db\n",
    "\n",
    "\n",
    "app = Flask(__name__)\n",
    "app.config.from_object('config')  # Load configuration from config.py\n",
    "\n",
    "login_manager = LoginManager(app)\n",
    "login_manager.login_view = \"login_page\"\n",
    "\n",
    "with app.app_context():\n",
    "    db.init_app(app)\n",
    "    db.create_all()\n"
   ]
  },
  {
   "cell_type": "code",
   "execution_count": 2,
   "metadata": {},
   "outputs": [
    {
     "data": {
      "text/plain": [
       "<function __main__.<lambda>()>"
      ]
     },
     "execution_count": 2,
     "metadata": {},
     "output_type": "execute_result"
    }
   ],
   "source": [
    "import atexit\n",
    "\n",
    "with app.app_context():\n",
    "    db.engine.dispose()\n",
    "\n",
    "# Dispose of the engine on app shutdown\n",
    "atexit.register(lambda: db.engine.dispose())"
   ]
  },
  {
   "cell_type": "code",
   "execution_count": 3,
   "metadata": {},
   "outputs": [],
   "source": [
    "# Create our first user\n",
    "with app.test_request_context():\n",
    "    user = User(username=\"Emily\", is_organizer=True)\n",
    "    db.session.add(user)\n",
    "    db.session.add(User(username=\"Robert\", is_organizer=True))\n",
    "    db.session.add(User(username=\"Occie\", is_organizer=False))\n",
    "    db.session.commit()"
   ]
  },
  {
   "cell_type": "code",
   "execution_count": 4,
   "metadata": {},
   "outputs": [
    {
     "name": "stdout",
     "output_type": "stream",
     "text": [
      "[User Emily, is_organizer=True>, User Robert, is_organizer=True>, User Occie, is_organizer=False>]\n"
     ]
    }
   ],
   "source": [
    "with app.test_request_context():\n",
    "    print(User.query.all())"
   ]
  },
  {
   "cell_type": "code",
   "execution_count": 5,
   "metadata": {},
   "outputs": [
    {
     "name": "stdout",
     "output_type": "stream",
     "text": [
      "User Emily, is_organizer=True>\n"
     ]
    }
   ],
   "source": [
    "# Let's create our first group\n",
    "with app.test_request_context():\n",
    "    user = User.query.filter_by(username='Emily').first()\n",
    "    print(user)\n",
    "    group = Group(group_name='Bakery',description='homemade bakery',\n",
    "                         create_user=user)\n",
    "    db.session.add(group)\n",
    "    db.session.commit()"
   ]
  },
  {
   "cell_type": "code",
   "execution_count": 6,
   "metadata": {},
   "outputs": [
    {
     "name": "stdout",
     "output_type": "stream",
     "text": [
      "User Robert, is_organizer=True>\n"
     ]
    }
   ],
   "source": [
    "# Let's create our second group\n",
    "with app.test_request_context():\n",
    "    user = User.query.filter_by(username='Robert').first()\n",
    "    print(user)\n",
    "    db.session.add(Group(group_name='Dundrum PYE',description='Local doggy friendly bar',\n",
    "                         create_user=user))\n",
    "    db.session.commit()"
   ]
  },
  {
   "cell_type": "code",
   "execution_count": 7,
   "metadata": {},
   "outputs": [
    {
     "name": "stdout",
     "output_type": "stream",
     "text": [
      "User Robert, is_organizer=True>\n"
     ]
    }
   ],
   "source": [
    "with app.test_request_context():\n",
    "    user = User.query.filter_by(username='Robert').first()\n",
    "    print(user)"
   ]
  },
  {
   "cell_type": "code",
   "execution_count": 8,
   "metadata": {},
   "outputs": [
    {
     "name": "stdout",
     "output_type": "stream",
     "text": [
      "[\"Group <group_name=Bakery, is_active= True, create_at (2024-11-07>), \"Group <group_name=Dundrum PYE, is_active= True, create_at (2024-11-07>)]\n"
     ]
    }
   ],
   "source": [
    "with app.test_request_context():\n",
    "    print(Group.query.all())"
   ]
  },
  {
   "cell_type": "code",
   "execution_count": 9,
   "metadata": {},
   "outputs": [],
   "source": [
    "with app.test_request_context():\n",
    "    user = User.query.filter_by(username='Emily').first()\n",
    "    group = Group.query.filter_by(create_user=user).first()\n",
    "    due_date = datetime.now(timezone.utc) + timedelta(days=7)\n",
    "    db.session.add(Post(title='Chocolate roll cake', context='Lets bake', date_to=due_date,\n",
    "                        group=group, editor=user ))\n",
    "    db.session.commit()"
   ]
  },
  {
   "cell_type": "code",
   "execution_count": 10,
   "metadata": {},
   "outputs": [
    {
     "name": "stdout",
     "output_type": "stream",
     "text": [
      "User Robert, is_organizer=True>\n",
      "\"Group <group_name=Dundrum PYE, is_active= True, create_at (2024-11-07>)\n"
     ]
    }
   ],
   "source": [
    "with app.test_request_context():\n",
    "    user = User.query.filter_by(username='Robert').first()\n",
    "    pye = Group.query.filter_by(create_user=user).first()\n",
    "    print(user)\n",
    "    print(pye)\n",
    "    due_date = datetime.now(timezone.utc) + timedelta(days=10)\n",
    "    db.session.add(Post(title='Occie party', context='1 year old party', date_to=due_date,\n",
    "                        group=pye, editor=user ))\n",
    "    db.session.commit()"
   ]
  },
  {
   "cell_type": "code",
   "execution_count": 11,
   "metadata": {},
   "outputs": [
    {
     "name": "stdout",
     "output_type": "stream",
     "text": [
      "User Emily, is_organizer=True>\n",
      "\"Group <group_name=Dundrum PYE, is_active= True, create_at (2024-11-07>)\n"
     ]
    }
   ],
   "source": [
    "with app.test_request_context():\n",
    "    user = User.query.filter_by(username='Emily').first()\n",
    "    pye = Group.query.filter_by(group_name='Dundrum PYE').first()\n",
    "    print(user)\n",
    "    print(pye)\n",
    "    due_date = datetime.now(timezone.utc) + timedelta(days=10)\n",
    "    db.session.add(Post(title='Doggy', context='Local doggy party', date_to=due_date,\n",
    "                        group=pye, editor=user ))\n",
    "    db.session.commit()"
   ]
  },
  {
   "cell_type": "code",
   "execution_count": 12,
   "metadata": {},
   "outputs": [
    {
     "name": "stdout",
     "output_type": "stream",
     "text": [
      "[\"Post <title=Occie party\" created_at=2024-11-07>), \"Post <title=Doggy\" created_at=2024-11-07>)]\n"
     ]
    }
   ],
   "source": [
    "with app.test_request_context():\n",
    "    user = User.query.filter_by(username='Robert').first()\n",
    "    pye = Group.query.filter_by(create_user=user).first()\n",
    "    print(pye.posts)"
   ]
  },
  {
   "cell_type": "code",
   "execution_count": 13,
   "metadata": {},
   "outputs": [
    {
     "name": "stdout",
     "output_type": "stream",
     "text": [
      "The user Emily has post:\n",
      "- Bakery-1 (Chocolate roll cake) due by 2024-11-07 20:45:59.628423\n",
      "- Dundrum PYE-3 (Doggy) due by 2024-11-07 20:45:59.690754\n"
     ]
    }
   ],
   "source": [
    "with app.test_request_context():\n",
    "    patron = User.query.filter_by(user_id=1).first()\n",
    "    print(f\"The user {patron.username} has post:\")\n",
    "    for post in patron.posts:\n",
    "        print(f\"- {post.group.group_name}-{post.post_id} ({post.title}) due by {post.date_fm}\")"
   ]
  },
  {
   "cell_type": "code",
   "execution_count": 14,
   "metadata": {},
   "outputs": [
    {
     "name": "stdout",
     "output_type": "stream",
     "text": [
      "The user Robert has post:\n",
      "- Dundrum PYE-2 (Occie party) due by 2024-11-07 20:45:59.656280\n"
     ]
    }
   ],
   "source": [
    "with app.test_request_context():\n",
    "    patron = User.query.filter_by(user_id=2).first()\n",
    "    print(f\"The user {patron.username} has post:\")\n",
    "    for post in patron.posts:\n",
    "        print(f\"- {post.group.group_name}-{post.post_id} ({post.title}) due by {post.date_fm}\")"
   ]
  },
  {
   "cell_type": "code",
   "execution_count": 15,
   "metadata": {},
   "outputs": [
    {
     "name": "stdout",
     "output_type": "stream",
     "text": [
      "The group Dundrum PYE has post:\n",
      "- Robert 2 (Occie party) due by 2024-11-07 20:45:59.656280\n",
      "- Emily 3 (Doggy) due by 2024-11-07 20:45:59.690754\n"
     ]
    }
   ],
   "source": [
    "with app.test_request_context():\n",
    "    group = Group.query.filter_by(group_id=2).first()\n",
    "    print(f\"The group {group.group_name} has post:\")\n",
    "    for post in group.posts:\n",
    "        print(f\"- {post.editor.username} {post.post_id} ({post.title}) due by {post.date_fm}\")"
   ]
  }
 ],
 "metadata": {
  "kernelspec": {
   "display_name": "Python 3",
   "language": "python",
   "name": "python3"
  },
  "language_info": {
   "codemirror_mode": {
    "name": "ipython",
    "version": 3
   },
   "file_extension": ".py",
   "mimetype": "text/x-python",
   "name": "python",
   "nbconvert_exporter": "python",
   "pygments_lexer": "ipython3",
   "version": "3.9.4"
  }
 },
 "nbformat": 4,
 "nbformat_minor": 2
}
